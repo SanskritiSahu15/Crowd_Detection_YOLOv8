{
 "cells": [
  {
   "cell_type": "code",
   "execution_count": 22,
   "id": "cb187e0c-36cc-4f2e-946a-23dc44c9ae14",
   "metadata": {},
   "outputs": [],
   "source": [
    "import os\n",
    "import cv2\n",
    "import numpy as np\n",
    "import pandas as pd\n",
    "import matplotlib.pyplot as plt\n",
    "from ultralytics import YOLO\n",
    "import supervision as sv\n",
    "from tkinter import Tk, filedialog\n",
    "from tqdm import tqdm\n",
    "from sklearn.metrics import mean_absolute_error, mean_squared_error, r2_score"
   ]
  },
  {
   "cell_type": "code",
   "execution_count": 23,
   "id": "e7f9277f-5698-4c4b-8f50-0d9d12c4db14",
   "metadata": {},
   "outputs": [],
   "source": [
    "# Function to select the CSV file\n",
    "def choose_csv():\n",
    "    root = Tk()\n",
    "    root.withdraw()\n",
    "    file_path = filedialog.askopenfilename(filetypes=[(\"CSV files\", \"*.csv\")])\n",
    "    return file_path"
   ]
  },
  {
   "cell_type": "code",
   "execution_count": 24,
   "id": "8fed9aef-fcb0-499f-ae86-601da995e76b",
   "metadata": {},
   "outputs": [],
   "source": [
    "\n",
    "# Function to select multiple video files\n",
    "def choose_videos():\n",
    "    root = Tk()\n",
    "    root.withdraw()\n",
    "    file_paths = filedialog.askopenfilenames(filetypes=[(\"Video files\", \"*.mp4;*.avi\")])\n",
    "    return file_paths"
   ]
  },
  {
   "cell_type": "code",
   "execution_count": 25,
   "id": "baf732e4-5a1b-4379-93cf-145dc24898b7",
   "metadata": {},
   "outputs": [],
   "source": [
    "# Function to calculate mAP@0.5\n",
    "def calculate_map_50(actual_counts, predicted_counts, iou_threshold=0.5):\n",
    "    correct_predictions = 0\n",
    "    for actual, pred in zip(actual_counts, predicted_counts):\n",
    "        if actual == 0:  # Avoid division by zero\n",
    "            if pred == 0:\n",
    "                correct_predictions += 1\n",
    "        else:\n",
    "            diff = abs(actual - pred) / actual\n",
    "            if diff <= (1 - iou_threshold): \n",
    "                correct_predictions += 1\n",
    "    \n",
    "    map_50 = correct_predictions / len(actual_counts) if len(actual_counts) > 0 else 0\n",
    "    return map_50\n"
   ]
  },
  {
   "cell_type": "code",
   "execution_count": 31,
   "id": "04899259-4e08-4f8a-8cc4-ee51ea5477ba",
   "metadata": {},
   "outputs": [],
   "source": [
    "# Load CSV file with actual counts\n",
    "csv_path = choose_csv()\n",
    "if not csv_path:\n",
    "    print(\"No CSV file selected. Exiting.\")\n",
    "    exit()"
   ]
  },
  {
   "cell_type": "code",
   "execution_count": 32,
   "id": "fb2510f3-c266-454e-9e83-09e096aa3f35",
   "metadata": {},
   "outputs": [
    {
     "name": "stdout",
     "output_type": "stream",
     "text": [
      "CSV file loaded: C:/Users/SANSKRITI SAHU/Downloads/people_count_evaluation.csv\n",
      "  Video Number  actual_count  predicted_count\n",
      "0      vid (1)             5                0\n",
      "1      vid (2)             2                0\n",
      "2      vid (3)             1                0\n",
      "3      vid (4)            12                0\n",
      "4      vid (5)            18                0\n"
     ]
    }
   ],
   "source": [
    "# Read the CSV file\n",
    "df = pd.read_csv(csv_path)\n",
    "print(f\"CSV file loaded: {csv_path}\")\n",
    "print(df.head())\n"
   ]
  },
  {
   "cell_type": "code",
   "execution_count": 28,
   "id": "dd5101a4-7729-4df7-b6be-016b21822ef4",
   "metadata": {},
   "outputs": [
    {
     "name": "stdout",
     "output_type": "stream",
     "text": [
      "Videos selected: ('C:/Users/SANSKRITI SAHU/Downloads/Videos/vid (1).mp4', 'C:/Users/SANSKRITI SAHU/Downloads/Videos/vid (2).mp4', 'C:/Users/SANSKRITI SAHU/Downloads/Videos/vid (3).mp4', 'C:/Users/SANSKRITI SAHU/Downloads/Videos/vid (4).mp4', 'C:/Users/SANSKRITI SAHU/Downloads/Videos/vid (5).mp4', 'C:/Users/SANSKRITI SAHU/Downloads/Videos/vid (6).mp4', 'C:/Users/SANSKRITI SAHU/Downloads/Videos/vid (7).mp4', 'C:/Users/SANSKRITI SAHU/Downloads/Videos/vid (8).mp4', 'C:/Users/SANSKRITI SAHU/Downloads/Videos/vid (9).mp4', 'C:/Users/SANSKRITI SAHU/Downloads/Videos/vid (10).mp4', 'C:/Users/SANSKRITI SAHU/Downloads/Videos/vid (11).mp4')\n"
     ]
    }
   ],
   "source": [
    "# Get video file paths\n",
    "video_paths = choose_videos()\n",
    "if not video_paths:\n",
    "    print(\"No videos selected. Exiting.\")\n",
    "    exit()\n",
    "print(f\"Videos selected: {video_paths}\")\n"
   ]
  },
  {
   "cell_type": "code",
   "execution_count": 41,
   "id": "85a988c8-0444-4d39-842c-939c161e4547",
   "metadata": {},
   "outputs": [],
   "source": [
    "# Loading model\n",
    "model = YOLO(\"yolov8x.pt\")"
   ]
  },
  {
   "cell_type": "code",
   "execution_count": 35,
   "id": "0ef917ff-473a-4607-bc82-5b8d1a7bb89b",
   "metadata": {},
   "outputs": [
    {
     "name": "stdout",
     "output_type": "stream",
     "text": [
      "Processing video: C:/Users/SANSKRITI SAHU/Downloads/Videos/vid (1).mp4\n",
      "Video resolution: 1280x720, FPS: 29, Total frames: 330\n"
     ]
    },
    {
     "name": "stderr",
     "output_type": "stream",
     "text": [
      "Processing vid (1).mp4 (First 5 Frames): 100%|███████████████████████████████████████████| 5/5 [00:05<00:00,  1.06s/it]\n"
     ]
    },
    {
     "name": "stdout",
     "output_type": "stream",
     "text": [
      "✅ Annotated video saved as: annotated_vid (1).mp4\n",
      "Processing video: C:/Users/SANSKRITI SAHU/Downloads/Videos/vid (2).mp4\n",
      "Video resolution: 768x432, FPS: 50, Total frames: 487\n"
     ]
    },
    {
     "name": "stderr",
     "output_type": "stream",
     "text": [
      "Processing vid (2).mp4 (First 5 Frames): 100%|███████████████████████████████████████████| 5/5 [00:05<00:00,  1.13s/it]\n"
     ]
    },
    {
     "name": "stdout",
     "output_type": "stream",
     "text": [
      "✅ Annotated video saved as: annotated_vid (2).mp4\n",
      "Processing video: C:/Users/SANSKRITI SAHU/Downloads/Videos/vid (3).mp4\n",
      "Video resolution: 640x360, FPS: 25, Total frames: 255\n"
     ]
    },
    {
     "name": "stderr",
     "output_type": "stream",
     "text": [
      "Processing vid (3).mp4 (First 5 Frames): 100%|███████████████████████████████████████████| 5/5 [00:05<00:00,  1.17s/it]\n"
     ]
    },
    {
     "name": "stdout",
     "output_type": "stream",
     "text": [
      "✅ Annotated video saved as: annotated_vid (3).mp4\n",
      "Processing video: C:/Users/SANSKRITI SAHU/Downloads/Videos/vid (4).mp4\n",
      "Video resolution: 498x210, FPS: 10, Total frames: 14\n"
     ]
    },
    {
     "name": "stderr",
     "output_type": "stream",
     "text": [
      "Processing vid (4).mp4 (First 5 Frames): 100%|███████████████████████████████████████████| 5/5 [00:03<00:00,  1.26it/s]\n"
     ]
    },
    {
     "name": "stdout",
     "output_type": "stream",
     "text": [
      "✅ Annotated video saved as: annotated_vid (4).mp4\n",
      "Processing video: C:/Users/SANSKRITI SAHU/Downloads/Videos/vid (5).mp4\n",
      "Video resolution: 640x480, FPS: 25, Total frames: 91\n"
     ]
    },
    {
     "name": "stderr",
     "output_type": "stream",
     "text": [
      "Processing vid (5).mp4 (First 5 Frames): 100%|███████████████████████████████████████████| 5/5 [00:05<00:00,  1.19s/it]\n"
     ]
    },
    {
     "name": "stdout",
     "output_type": "stream",
     "text": [
      "✅ Annotated video saved as: annotated_vid (5).mp4\n",
      "Processing video: C:/Users/SANSKRITI SAHU/Downloads/Videos/vid (6).mp4\n",
      "Video resolution: 320x240, FPS: 14, Total frames: 56\n"
     ]
    },
    {
     "name": "stderr",
     "output_type": "stream",
     "text": [
      "Processing vid (6).mp4 (First 5 Frames): 100%|███████████████████████████████████████████| 5/5 [00:06<00:00,  1.30s/it]\n"
     ]
    },
    {
     "name": "stdout",
     "output_type": "stream",
     "text": [
      "✅ Annotated video saved as: annotated_vid (6).mp4\n",
      "Processing video: C:/Users/SANSKRITI SAHU/Downloads/Videos/vid (7).mp4\n",
      "Video resolution: 480x204, FPS: 15, Total frames: 16\n"
     ]
    },
    {
     "name": "stderr",
     "output_type": "stream",
     "text": [
      "Processing vid (7).mp4 (First 5 Frames): 100%|███████████████████████████████████████████| 5/5 [00:03<00:00,  1.30it/s]\n"
     ]
    },
    {
     "name": "stdout",
     "output_type": "stream",
     "text": [
      "✅ Annotated video saved as: annotated_vid (7).mp4\n",
      "Processing video: C:/Users/SANSKRITI SAHU/Downloads/Videos/vid (8).mp4\n",
      "Video resolution: 220x178, FPS: 8, Total frames: 28\n"
     ]
    },
    {
     "name": "stderr",
     "output_type": "stream",
     "text": [
      "Processing vid (8).mp4 (First 5 Frames): 100%|███████████████████████████████████████████| 5/5 [00:07<00:00,  1.47s/it]\n"
     ]
    },
    {
     "name": "stdout",
     "output_type": "stream",
     "text": [
      "✅ Annotated video saved as: annotated_vid (8).mp4\n",
      "Processing video: C:/Users/SANSKRITI SAHU/Downloads/Videos/vid (9).mp4\n",
      "Video resolution: 220x170, FPS: 10, Total frames: 31\n"
     ]
    },
    {
     "name": "stderr",
     "output_type": "stream",
     "text": [
      "Processing vid (9).mp4 (First 5 Frames): 100%|███████████████████████████████████████████| 5/5 [00:07<00:00,  1.58s/it]\n"
     ]
    },
    {
     "name": "stdout",
     "output_type": "stream",
     "text": [
      "✅ Annotated video saved as: annotated_vid (9).mp4\n",
      "Processing video: C:/Users/SANSKRITI SAHU/Downloads/Videos/vid (10).mp4\n",
      "Video resolution: 1920x1080, FPS: 25, Total frames: 767\n"
     ]
    },
    {
     "name": "stderr",
     "output_type": "stream",
     "text": [
      "Processing vid (10).mp4 (First 5 Frames): 100%|██████████████████████████████████████████| 5/5 [00:06<00:00,  1.25s/it]\n"
     ]
    },
    {
     "name": "stdout",
     "output_type": "stream",
     "text": [
      "✅ Annotated video saved as: annotated_vid (10).mp4\n",
      "Processing video: C:/Users/SANSKRITI SAHU/Downloads/Videos/vid (11).mp4\n",
      "Video resolution: 640x360, FPS: 25, Total frames: 393\n"
     ]
    },
    {
     "name": "stderr",
     "output_type": "stream",
     "text": [
      "Processing vid (11).mp4 (First 5 Frames): 100%|██████████████████████████████████████████| 5/5 [00:05<00:00,  1.06s/it]"
     ]
    },
    {
     "name": "stdout",
     "output_type": "stream",
     "text": [
      "✅ Annotated video saved as: annotated_vid (11).mp4\n"
     ]
    },
    {
     "name": "stderr",
     "output_type": "stream",
     "text": [
      "\n"
     ]
    }
   ],
   "source": [
    "# Create a new column for predicted counts\n",
    "df['predicted_count'] = 0\n",
    "video_predictions = {}\n",
    "\n",
    "# Process each video and update predicted counts\n",
    "for video_path in video_paths:\n",
    "    # Extract video basename for matching with CSV\n",
    "    video_basename = os.path.basename(video_path)\n",
    "    video_name = os.path.splitext(video_basename)[0]\n",
    "    \n",
    "    # Open the video file\n",
    "    cap = cv2.VideoCapture(video_path)\n",
    "\n",
    "    # Get video properties\n",
    "    width = int(cap.get(cv2.CAP_PROP_FRAME_WIDTH))\n",
    "    height = int(cap.get(cv2.CAP_PROP_FRAME_HEIGHT))\n",
    "    fps = int(cap.get(cv2.CAP_PROP_FPS))\n",
    "    frame_count = int(cap.get(cv2.CAP_PROP_FRAME_COUNT))\n",
    "\n",
    "    # Only process the first 5 frames\n",
    "    frame_limit = min(5, frame_count)\n",
    "\n",
    "    # Prepare output video file path\n",
    "    output_path = f\"annotated_{video_basename}\"\n",
    "    fourcc = cv2.VideoWriter_fourcc(*'mp4v')\n",
    "    out = cv2.VideoWriter(output_path, fourcc, fps, (width, height))\n",
    "\n",
    "    print(f\"Processing video: {video_path}\")\n",
    "    print(f\"Video resolution: {width}x{height}, FPS: {fps}, Total frames: {frame_count}\")\n",
    "    \n",
    "    box_annotator = sv.BoxAnnotator()\n",
    "    \n",
    "    # List to store people counts for each frame\n",
    "    frame_counts = []\n",
    "\n",
    "    # Process only first 5 frames\n",
    "    for _ in tqdm(range(frame_limit), desc=f\"Processing {video_basename} (First 5 Frames)\"):\n",
    "        ret, frame = cap.read()\n",
    "        if not ret:\n",
    "            break\n",
    "\n",
    "       \n",
    "        results = model(frame, classes=0, verbose=False)[0]\n",
    "\n",
    "        # Extract bounding boxes\n",
    "        xyxy = results.boxes.xyxy.cpu().numpy()\n",
    "        conf = results.boxes.conf.cpu().numpy()\n",
    "        class_ids = results.boxes.cls.cpu().numpy().astype(int)\n",
    "\n",
    "        detections = sv.Detections(xyxy=xyxy, confidence=conf, class_id=class_ids)\n",
    "\n",
    "        annotated_frame = box_annotator.annotate(scene=frame.copy(), detections=detections)\n",
    "\n",
    "        people_count = len(detections)\n",
    "        frame_counts.append(people_count)\n",
    "        \n",
    "        cv2.putText(annotated_frame, f\"People Count: {people_count}\", (10, 30),\n",
    "                    cv2.FONT_HERSHEY_SIMPLEX, 1.0, (0, 255, 0), 2)\n",
    "\n",
    "        out.write(annotated_frame)\n",
    "\n",
    "    # Use max count across first 5 frames\n",
    "    if frame_counts:\n",
    "        final_count = max(frame_counts)\n",
    "\n",
    "        # Update DataFrame\n",
    "        if video_name in df['Video Number'].values or video_basename in df['Video Number'].values:\n",
    "            if video_name in df['Video Number'].values:\n",
    "                idx = df[df['Video Number'] == video_name].index\n",
    "                df.loc[idx, 'predicted_count'] = final_count\n",
    "            elif video_basename in df['Video Number'].values:\n",
    "                idx = df[df['Video Number'] == video_basename].index\n",
    "                df.loc[idx, 'predicted_count'] = final_count\n",
    "            else:\n",
    "                for vid in df['Video Number']:\n",
    "                    if vid in video_name or video_name in vid:\n",
    "                        idx = df[df['Video Number'] == vid].index\n",
    "                        df.loc[idx, 'predicted_count'] = final_count\n",
    "                        break\n",
    "\n",
    "    cap.release()\n",
    "    out.release()\n",
    "    print(f\"✅ Annotated video saved as: {output_path}\")\n"
   ]
  },
  {
   "cell_type": "code",
   "execution_count": 36,
   "id": "29f4051d-ddcb-4734-8eba-43f72ae15068",
   "metadata": {},
   "outputs": [
    {
     "name": "stdout",
     "output_type": "stream",
     "text": [
      "✅ Results saved to: crowd_detection_results.csv\n"
     ]
    }
   ],
   "source": [
    "# Save the updated DataFrame to a new CSV file\n",
    "output_csv = \"crowd_detection_results.csv\"\n",
    "df.to_csv(output_csv, index=False)\n",
    "print(f\"✅ Results saved to: {output_csv}\")"
   ]
  },
  {
   "cell_type": "code",
   "execution_count": 40,
   "id": "92a6d75d-cfe4-4038-a044-ee504439f651",
   "metadata": {},
   "outputs": [
    {
     "data": {
      "text/html": [
       "<div>\n",
       "<style scoped>\n",
       "    .dataframe tbody tr th:only-of-type {\n",
       "        vertical-align: middle;\n",
       "    }\n",
       "\n",
       "    .dataframe tbody tr th {\n",
       "        vertical-align: top;\n",
       "    }\n",
       "\n",
       "    .dataframe thead th {\n",
       "        text-align: right;\n",
       "    }\n",
       "</style>\n",
       "<table border=\"1\" class=\"dataframe\">\n",
       "  <thead>\n",
       "    <tr style=\"text-align: right;\">\n",
       "      <th></th>\n",
       "      <th>Video Number</th>\n",
       "      <th>actual_count</th>\n",
       "      <th>predicted_count</th>\n",
       "    </tr>\n",
       "  </thead>\n",
       "  <tbody>\n",
       "    <tr>\n",
       "      <th>0</th>\n",
       "      <td>vid (1)</td>\n",
       "      <td>5</td>\n",
       "      <td>8</td>\n",
       "    </tr>\n",
       "    <tr>\n",
       "      <th>1</th>\n",
       "      <td>vid (2)</td>\n",
       "      <td>2</td>\n",
       "      <td>2</td>\n",
       "    </tr>\n",
       "    <tr>\n",
       "      <th>2</th>\n",
       "      <td>vid (3)</td>\n",
       "      <td>1</td>\n",
       "      <td>1</td>\n",
       "    </tr>\n",
       "    <tr>\n",
       "      <th>3</th>\n",
       "      <td>vid (4)</td>\n",
       "      <td>12</td>\n",
       "      <td>14</td>\n",
       "    </tr>\n",
       "    <tr>\n",
       "      <th>4</th>\n",
       "      <td>vid (5)</td>\n",
       "      <td>18</td>\n",
       "      <td>15</td>\n",
       "    </tr>\n",
       "  </tbody>\n",
       "</table>\n",
       "</div>"
      ],
      "text/plain": [
       "  Video Number  actual_count  predicted_count\n",
       "0      vid (1)             5                8\n",
       "1      vid (2)             2                2\n",
       "2      vid (3)             1                1\n",
       "3      vid (4)            12               14\n",
       "4      vid (5)            18               15"
      ]
     },
     "execution_count": 40,
     "metadata": {},
     "output_type": "execute_result"
    }
   ],
   "source": [
    "df.head()"
   ]
  },
  {
   "cell_type": "code",
   "execution_count": 39,
   "id": "954d2eb1-3165-4114-8296-9233cf35357c",
   "metadata": {
    "scrolled": true
   },
   "outputs": [
    {
     "name": "stdout",
     "output_type": "stream",
     "text": [
      "\n",
      "Evaluation Metrics:\n",
      "Mean Absolute Error (MAE): 2.36\n",
      "Root Mean Squared Error (RMSE): 3.41\n",
      "R² Score: 0.55\n",
      "mAP@0.5: 0.73\n"
     ]
    },
    {
     "data": {
      "image/png": "[encoded data removed]",
      "text/plain": [
       "<Figure size 1000x600 with 1 Axes>"
      ]
     },
     "metadata": {},
     "output_type": "display_data"
    },
    {
     "data": {
      "image/png": "[encoded data removed]",
      "text/plain": [
       "<Figure size 800x800 with 1 Axes>"
      ]
     },
     "metadata": {},
     "output_type": "display_data"
    },
    {
     "name": "stdout",
     "output_type": "stream",
     "text": [
      "Process completed!\n"
     ]
    }
   ],
   "source": [
    "# Evaluate predictions\n",
    "valid_data = df.dropna(subset=['actual_count', 'predicted_count'])\n",
    "\n",
    "if len(valid_data) > 0:\n",
    "    actual_counts = valid_data['actual_count'].values\n",
    "    predicted_counts = valid_data['predicted_count'].values\n",
    "\n",
    "    # Calculate metrics\n",
    "    mae = mean_absolute_error(actual_counts, predicted_counts)\n",
    "    rmse = np.sqrt(mean_squared_error(actual_counts, predicted_counts))\n",
    "    r2 = r2_score(actual_counts, predicted_counts)\n",
    "    map_50 = calculate_map_50(actual_counts, predicted_counts, iou_threshold=0.5)\n",
    "\n",
    "    print(\"\\nEvaluation Metrics:\")\n",
    "    print(f\"Mean Absolute Error (MAE): {mae:.2f}\")\n",
    "    print(f\"Root Mean Squared Error (RMSE): {rmse:.2f}\")\n",
    "    print(f\"R² Score: {r2:.2f}\")\n",
    "    print(f\"mAP@0.5: {map_50:.2f}\")\n",
    "\n",
    "    # Creat visualization\n",
    "    plt.figure(figsize=(10, 6))\n",
    "    \n",
    "    # Bar chart comparing actual vs predicted counts\n",
    "    videos = valid_data['Video Number'].values\n",
    "    x = np.arange(len(videos))\n",
    "    width = 0.35\n",
    "    \n",
    "    plt.bar(x - width/2, actual_counts, width, label='Actual Count')\n",
    "    plt.bar(x + width/2, predicted_counts, width, label='Predicted Count')\n",
    "    \n",
    "    plt.xlabel('Video')\n",
    "    plt.ylabel('People Count')\n",
    "    plt.title('Actual vs Predicted People Count')\n",
    "    plt.xticks(x, videos, rotation=45)\n",
    "    plt.legend()\n",
    "    plt.tight_layout()\n",
    "    \n",
    "    # Save the figure\n",
    "    plt.savefig('actual_vs_predicted_counts.png')\n",
    "    plt.show()\n",
    "    \n",
    "    # Scatter plot\n",
    "    plt.figure(figsize=(8, 8))\n",
    "    plt.scatter(actual_counts, predicted_counts)\n",
    "    \n",
    "    # Add a perfect prediction line\n",
    "    max_count = max(max(actual_counts), max(predicted_counts))\n",
    "    plt.plot([0, max_count], [0, max_count], 'r--')\n",
    "    \n",
    "    plt.xlabel('Actual Count')\n",
    "    plt.ylabel('Predicted Count')\n",
    "    plt.title('Correlation between Actual and Predicted Counts')\n",
    "    plt.grid(True)\n",
    "    plt.axis('equal')\n",
    "    \n",
    "    # Add metrics to the plot\n",
    "    plt.text(0.05, 0.95, f'MAE: {mae:.2f}', transform=plt.gca().transAxes)\n",
    "    plt.text(0.05, 0.90, f'RMSE: {rmse:.2f}', transform=plt.gca().transAxes)\n",
    "    plt.text(0.05, 0.85, f'R²: {r2:.2f}', transform=plt.gca().transAxes)\n",
    "    plt.text(0.05, 0.80, f'mAP@0.5: {map_50:.2f}', transform=plt.gca().transAxes)\n",
    "    \n",
    "    # Save the figure\n",
    "    plt.savefig('correlation_plot.png')\n",
    "    plt.show()\n",
    "else:\n",
    "    print(\"No matching data found between videos and CSV records.\")\n",
    "\n",
    "print(\"Process completed!\")"
   ]
  }
 ],
 "metadata": {
  "kernelspec": {
   "display_name": "Python 3 (ipykernel)",
   "language": "python",
   "name": "python3"
  },
  "language_info": {
   "codemirror_mode": {
    "name": "ipython",
    "version": 3
   },
   "file_extension": ".py",
   "mimetype": "text/x-python",
   "name": "python",
   "nbconvert_exporter": "python",
   "pygments_lexer": "ipython3",
   "version": "3.12.1"
  }
 },
 "nbformat": 4,
 "nbformat_minor": 5
}
